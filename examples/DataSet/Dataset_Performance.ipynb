{
 "cells": [
  {
   "cell_type": "markdown",
   "metadata": {},
   "source": [
    "# DataSet Performance\n",
    "\n",
    "This notebook shows the trade-off between inserting data into a database row-by-row and as binary blobs. Inserting the data row-by-row means that we have direct access to all the data and may perform queries directly on the values of the data. On the other hand, as we shall see, this is much slower than inserting the data directly as binary blobs."
   ]
  },
  {
   "cell_type": "markdown",
   "metadata": {},
   "source": [
    "First, we choose a new location for the database to ensure that we don't add a bunch of benchmarking data to the default one."
   ]
  },
  {
   "cell_type": "code",
   "execution_count": 1,
   "metadata": {
    "execution": {
     "iopub.execute_input": "2024-04-22T09:04:40.467178Z",
     "iopub.status.busy": "2024-04-22T09:04:40.466707Z",
     "iopub.status.idle": "2024-04-22T09:04:41.483841Z",
     "shell.execute_reply": "2024-04-22T09:04:41.483241Z"
    }
   },
   "outputs": [
    {
     "name": "stdout",
     "output_type": "stream",
     "text": [
      "Logging hadn't been started.\n",
      "Activating auto-logging. Current session state plus future input saved.\n",
      "Filename       : /home/runner/.qcodes/logs/command_history.log\n",
      "Mode           : append\n",
      "Output logging : True\n",
      "Raw input log  : False\n",
      "Timestamping   : True\n",
      "State          : active\n"
     ]
    },
    {
     "name": "stdout",
     "output_type": "stream",
     "text": [
      "Qcodes Logfile : /home/runner/.qcodes/logs/240422-13714-qcodes.log\n"
     ]
    }
   ],
   "source": [
    "import os\n",
    "\n",
    "cwd = os.getcwd()\n",
    "import qcodes as qc\n",
    "\n",
    "qc.config[\"core\"][\"db_location\"] = os.path.join(cwd, 'testing.db')"
   ]
  },
  {
   "cell_type": "code",
   "execution_count": 2,
   "metadata": {
    "execution": {
     "iopub.execute_input": "2024-04-22T09:04:41.486757Z",
     "iopub.status.busy": "2024-04-22T09:04:41.486306Z",
     "iopub.status.idle": "2024-04-22T09:04:41.763769Z",
     "shell.execute_reply": "2024-04-22T09:04:41.763146Z"
    }
   },
   "outputs": [],
   "source": [
    "%matplotlib inline\n",
    "import time\n",
    "from pathlib import Path\n",
    "\n",
    "import matplotlib.pyplot as plt\n",
    "import numpy as np\n",
    "\n",
    "import qcodes as qc\n",
    "from qcodes.dataset import (\n",
    "    Measurement,\n",
    "    initialise_or_create_database_at,\n",
    "    load_or_create_experiment,\n",
    ")\n",
    "from qcodes.parameters import ManualParameter"
   ]
  },
  {
   "cell_type": "code",
   "execution_count": 3,
   "metadata": {
    "execution": {
     "iopub.execute_input": "2024-04-22T09:04:41.766641Z",
     "iopub.status.busy": "2024-04-22T09:04:41.766461Z",
     "iopub.status.idle": "2024-04-22T09:04:41.802540Z",
     "shell.execute_reply": "2024-04-22T09:04:41.801942Z"
    }
   },
   "outputs": [],
   "source": [
    "initialise_or_create_database_at(Path.cwd() / \"dataset_performance.db\")\n",
    "exp = load_or_create_experiment(experiment_name='tutorial_exp', sample_name=\"no sample\")"
   ]
  },
  {
   "cell_type": "markdown",
   "metadata": {},
   "source": [
    "Here, we define a simple function to benchmark the time it takes to insert n points with either numeric or array data type.\n",
    "We will compare both the time used to call ``add_result`` and the time used for the full measurement."
   ]
  },
  {
   "cell_type": "code",
   "execution_count": 4,
   "metadata": {
    "execution": {
     "iopub.execute_input": "2024-04-22T09:04:41.805336Z",
     "iopub.status.busy": "2024-04-22T09:04:41.804914Z",
     "iopub.status.idle": "2024-04-22T09:04:41.813005Z",
     "shell.execute_reply": "2024-04-22T09:04:41.812338Z"
    }
   },
   "outputs": [],
   "source": [
    "def insert_data(paramtype, npoints, nreps=1):\n",
    "\n",
    "    meas = Measurement(exp=exp)\n",
    "\n",
    "    x1 = ManualParameter('x1')\n",
    "    x2 = ManualParameter('x2')\n",
    "    x3 = ManualParameter('x3')\n",
    "    y1 = ManualParameter('y1')\n",
    "    y2 = ManualParameter('y2')\n",
    "\n",
    "    meas.register_parameter(x1, paramtype=paramtype)\n",
    "    meas.register_parameter(x2, paramtype=paramtype)\n",
    "    meas.register_parameter(x3, paramtype=paramtype)\n",
    "    meas.register_parameter(y1, setpoints=[x1, x2, x3],\n",
    "                            paramtype=paramtype)\n",
    "    meas.register_parameter(y2, setpoints=[x1, x2, x3],\n",
    "                            paramtype=paramtype)\n",
    "    start = time.perf_counter()\n",
    "    with meas.run() as datasaver:\n",
    "        start_adding = time.perf_counter()\n",
    "        for i in range(nreps):\n",
    "            datasaver.add_result((x1, np.random.rand(npoints)),\n",
    "                                 (x2, np.random.rand(npoints)),\n",
    "                                 (x3, np.random.rand(npoints)),\n",
    "                                 (y1, np.random.rand(npoints)),\n",
    "                                 (y2, np.random.rand(npoints)))\n",
    "        stop_adding = time.perf_counter()\n",
    "        run_id = datasaver.run_id\n",
    "    stop = time.perf_counter()\n",
    "    tot_time = stop - start\n",
    "    add_time = stop_adding - start_adding\n",
    "    return tot_time, add_time, run_id"
   ]
  },
  {
   "cell_type": "markdown",
   "metadata": {},
   "source": [
    "## Comparison between numeric/array data and binary blob"
   ]
  },
  {
   "cell_type": "markdown",
   "metadata": {},
   "source": [
    "### Case1: Short experiment time"
   ]
  },
  {
   "cell_type": "code",
   "execution_count": 5,
   "metadata": {
    "execution": {
     "iopub.execute_input": "2024-04-22T09:04:41.815272Z",
     "iopub.status.busy": "2024-04-22T09:04:41.814916Z",
     "iopub.status.idle": "2024-04-22T09:04:42.222310Z",
     "shell.execute_reply": "2024-04-22T09:04:42.221731Z"
    }
   },
   "outputs": [
    {
     "name": "stdout",
     "output_type": "stream",
     "text": [
      "Starting experimental run with id: 1. \n",
      "Starting experimental run with id: 2. \n",
      "Starting experimental run with id: 3. \n",
      "Starting experimental run with id: 4. \n",
      "Starting experimental run with id: 5. \n",
      "Starting experimental run with id: 6. \n",
      "Starting experimental run with id: 7. \n",
      "Starting experimental run with id: 8. \n",
      "Starting experimental run with id: 9. \n"
     ]
    },
    {
     "name": "stdout",
     "output_type": "stream",
     "text": [
      "Starting experimental run with id: 10. \n",
      "Starting experimental run with id: 11. \n",
      "Starting experimental run with id: 12. \n",
      "Starting experimental run with id: 13. \n",
      "Starting experimental run with id: 14. \n"
     ]
    }
   ],
   "source": [
    "sizes = [1,500,1000,2000,3000,4000,5000]\n",
    "t_numeric = []\n",
    "t_numeric_add = []\n",
    "t_array = []\n",
    "t_array_add = []\n",
    "for size in sizes:\n",
    "    tn, tna, run_id_n =  insert_data('numeric', size)\n",
    "    t_numeric.append(tn)\n",
    "    t_numeric_add.append(tna)\n",
    "\n",
    "    ta, taa, run_id_a =  insert_data('array', size)\n",
    "    t_array.append(ta)\n",
    "    t_array_add.append(taa)"
   ]
  },
  {
   "cell_type": "code",
   "execution_count": 6,
   "metadata": {
    "execution": {
     "iopub.execute_input": "2024-04-22T09:04:42.224558Z",
     "iopub.status.busy": "2024-04-22T09:04:42.224229Z",
     "iopub.status.idle": "2024-04-22T09:04:42.469781Z",
     "shell.execute_reply": "2024-04-22T09:04:42.469167Z"
    }
   },
   "outputs": [
    {
     "data": {
      "image/png": "[encoded data removed]",
      "text/plain": [
       "<Figure size 640x480 with 1 Axes>"
      ]
     },
     "metadata": {},
     "output_type": "display_data"
    }
   ],
   "source": [
    "fig, ax = plt.subplots(1,1)\n",
    "ax.plot(sizes, t_numeric, 'o-', label='Inserting row-by-row')\n",
    "ax.plot(sizes, t_numeric_add, 'o-', label='Inserting row-by-row: add_result only')\n",
    "ax.plot(sizes, t_array, 'd-', label='Inserting as binary blob')\n",
    "ax.plot(sizes, t_array_add, 'd-', label='Inserting as binary blob: add_result only')\n",
    "ax.legend()\n",
    "ax.set_xlabel('Array length')\n",
    "ax.set_ylabel('Time (s)')\n",
    "fig.tight_layout()"
   ]
  },
  {
   "cell_type": "markdown",
   "metadata": {},
   "source": [
    "As shown in the latter figure, the time to setup and and close the experiment is approximately 0.4 sec. In case of small array sizes, the difference between inserting values of data as arrays and inserting them row-by-row is relatively unimportant. At larger array sizes, i.e. above 10000 points, the cost of writing data as individual datapoints starts to become important.\n"
   ]
  },
  {
   "cell_type": "markdown",
   "metadata": {},
   "source": [
    "### Case2: Long experiment time "
   ]
  },
  {
   "cell_type": "code",
   "execution_count": 7,
   "metadata": {
    "execution": {
     "iopub.execute_input": "2024-04-22T09:04:42.472204Z",
     "iopub.status.busy": "2024-04-22T09:04:42.471981Z",
     "iopub.status.idle": "2024-04-22T09:05:01.743118Z",
     "shell.execute_reply": "2024-04-22T09:05:01.742518Z"
    }
   },
   "outputs": [
    {
     "name": "stdout",
     "output_type": "stream",
     "text": [
      "Starting experimental run with id: 15. \n",
      "Starting experimental run with id: 16. \n",
      "Starting experimental run with id: 17. \n"
     ]
    },
    {
     "name": "stdout",
     "output_type": "stream",
     "text": [
      "Starting experimental run with id: 18. \n",
      "Starting experimental run with id: 19. \n"
     ]
    },
    {
     "name": "stdout",
     "output_type": "stream",
     "text": [
      "Starting experimental run with id: 20. \n",
      "Starting experimental run with id: 21. \n"
     ]
    },
    {
     "name": "stdout",
     "output_type": "stream",
     "text": [
      "Starting experimental run with id: 22. \n",
      "Starting experimental run with id: 23. \n"
     ]
    },
    {
     "name": "stdout",
     "output_type": "stream",
     "text": [
      "Starting experimental run with id: 24. \n"
     ]
    },
    {
     "name": "stdout",
     "output_type": "stream",
     "text": [
      "Starting experimental run with id: 25. \n"
     ]
    },
    {
     "name": "stdout",
     "output_type": "stream",
     "text": [
      "Starting experimental run with id: 26. \n"
     ]
    },
    {
     "name": "stdout",
     "output_type": "stream",
     "text": [
      "Starting experimental run with id: 27. \n"
     ]
    },
    {
     "name": "stdout",
     "output_type": "stream",
     "text": [
      "Starting experimental run with id: 28. \n"
     ]
    }
   ],
   "source": [
    "sizes = [1,500,1000,2000,3000,4000,5000]\n",
    "nreps = 100\n",
    "t_numeric = []\n",
    "t_numeric_add = []\n",
    "t_numeric_run_ids = []\n",
    "t_array = []\n",
    "t_array_add = []\n",
    "t_array_run_ids = []\n",
    "for size in sizes:\n",
    "    tn, tna, run_id_n =  insert_data('numeric', size, nreps=nreps)\n",
    "    t_numeric.append(tn)\n",
    "    t_numeric_add.append(tna)\n",
    "    t_numeric_run_ids.append(run_id_n)\n",
    "\n",
    "    ta, taa, run_id_a =  insert_data('array', size, nreps=nreps)\n",
    "    t_array.append(ta)\n",
    "    t_array_add.append(taa)\n",
    "    t_array_run_ids.append(run_id_a)"
   ]
  },
  {
   "cell_type": "code",
   "execution_count": 8,
   "metadata": {
    "execution": {
     "iopub.execute_input": "2024-04-22T09:05:01.745994Z",
     "iopub.status.busy": "2024-04-22T09:05:01.745549Z",
     "iopub.status.idle": "2024-04-22T09:05:01.978554Z",
     "shell.execute_reply": "2024-04-22T09:05:01.977845Z"
    },
    "scrolled": true
   },
   "outputs": [
    {
     "data": {
      "image/png": "[encoded data removed]",
      "text/plain": [
       "<Figure size 640x480 with 1 Axes>"
      ]
     },
     "metadata": {},
     "output_type": "display_data"
    }
   ],
   "source": [
    "fig, ax = plt.subplots(1,1)\n",
    "ax.plot(sizes, t_numeric, 'o-', label='Inserting row-by-row')\n",
    "ax.plot(sizes, t_numeric_add, 'o-', label='Inserting row-by-row: add_result only')\n",
    "ax.plot(sizes, t_array, 'd-', label='Inserting as binary blob')\n",
    "ax.plot(sizes, t_array_add, 'd-', label='Inserting as binary blob: add_result only')\n",
    "ax.legend()\n",
    "ax.set_xlabel('Array length')\n",
    "ax.set_ylabel('Time (s)')\n",
    "fig.tight_layout()"
   ]
  },
  {
   "cell_type": "markdown",
   "metadata": {},
   "source": [
    "However, as we increase the length of the experiment, as seen here by repeating the insertion 100 times, we see a big difference between inserting values of the data row-by-row and inserting it as a binary blob."
   ]
  },
  {
   "cell_type": "markdown",
   "metadata": {},
   "source": [
    "## Loading the data "
   ]
  },
  {
   "cell_type": "code",
   "execution_count": 9,
   "metadata": {
    "execution": {
     "iopub.execute_input": "2024-04-22T09:05:01.980854Z",
     "iopub.status.busy": "2024-04-22T09:05:01.980645Z",
     "iopub.status.idle": "2024-04-22T09:05:01.983802Z",
     "shell.execute_reply": "2024-04-22T09:05:01.983189Z"
    }
   },
   "outputs": [],
   "source": [
    "from qcodes.dataset import load_by_id"
   ]
  },
  {
   "cell_type": "markdown",
   "metadata": {},
   "source": [
    "As usual you can load the data by using the ``load_by_id`` function but you will notice that the different storage methods\n",
    "are reflected in shape of the data as it is retrieved. "
   ]
  },
  {
   "cell_type": "code",
   "execution_count": 10,
   "metadata": {
    "execution": {
     "iopub.execute_input": "2024-04-22T09:05:01.986201Z",
     "iopub.status.busy": "2024-04-22T09:05:01.985788Z",
     "iopub.status.idle": "2024-04-22T09:05:01.989200Z",
     "shell.execute_reply": "2024-04-22T09:05:01.988597Z"
    }
   },
   "outputs": [],
   "source": [
    "run_id_n = t_numeric_run_ids[0]\n",
    "run_id_a = t_array_run_ids[0]"
   ]
  },
  {
   "cell_type": "code",
   "execution_count": 11,
   "metadata": {
    "execution": {
     "iopub.execute_input": "2024-04-22T09:05:01.991200Z",
     "iopub.status.busy": "2024-04-22T09:05:01.991030Z",
     "iopub.status.idle": "2024-04-22T09:05:02.000506Z",
     "shell.execute_reply": "2024-04-22T09:05:01.999927Z"
    },
    "scrolled": true
   },
   "outputs": [
    {
     "data": {
      "text/plain": [
       "{'x1': {'x1': array([0.51621787, 0.51621787, 0.54890738, 0.54890738, 0.86214995,\n",
       "         0.86214995, 0.33383462, 0.33383462, 0.25447516, 0.25447516,\n",
       "         0.10603681, 0.10603681, 0.99577135, 0.99577135, 0.9562577 ,\n",
       "         0.9562577 , 0.76356654, 0.76356654, 0.07935938, 0.07935938,\n",
       "         0.13940217, 0.13940217, 0.61664367, 0.61664367, 0.89061995,\n",
       "         0.89061995, 0.62785698, 0.62785698, 0.78467707, 0.78467707,\n",
       "         0.47487692, 0.47487692, 0.99310116, 0.99310116, 0.80159979,\n",
       "         0.80159979, 0.05387838, 0.05387838, 0.98707462, 0.98707462,\n",
       "         0.36542633, 0.36542633, 0.74671876, 0.74671876, 0.77015995,\n",
       "         0.77015995, 0.98478985, 0.98478985, 0.8767935 , 0.8767935 ,\n",
       "         0.79860552, 0.79860552, 0.57118311, 0.57118311, 0.86048763,\n",
       "         0.86048763, 0.13099536, 0.13099536, 0.16170714, 0.16170714,\n",
       "         0.56836472, 0.56836472, 0.54010502, 0.54010502, 0.48980342,\n",
       "         0.48980342, 0.94040324, 0.94040324, 0.09090882, 0.09090882,\n",
       "         0.72249202, 0.72249202, 0.1354217 , 0.1354217 , 0.69442326,\n",
       "         0.69442326, 0.60068013, 0.60068013, 0.39061442, 0.39061442,\n",
       "         0.92292502, 0.92292502, 0.16453588, 0.16453588, 0.50572753,\n",
       "         0.50572753, 0.25527287, 0.25527287, 0.43807344, 0.43807344,\n",
       "         0.64870893, 0.64870893, 0.00147724, 0.00147724, 0.58236309,\n",
       "         0.58236309, 0.66457217, 0.66457217, 0.72973318, 0.72973318,\n",
       "         0.99401167, 0.99401167, 0.12015669, 0.12015669, 0.87933101,\n",
       "         0.87933101, 0.73736914, 0.73736914, 0.15937427, 0.15937427,\n",
       "         0.587609  , 0.587609  , 0.56684231, 0.56684231, 0.295343  ,\n",
       "         0.295343  , 0.13015763, 0.13015763, 0.53008908, 0.53008908,\n",
       "         0.34386715, 0.34386715, 0.41300247, 0.41300247, 0.55935593,\n",
       "         0.55935593, 0.7008394 , 0.7008394 , 0.61345987, 0.61345987,\n",
       "         0.09574654, 0.09574654, 0.39571823, 0.39571823, 0.75099237,\n",
       "         0.75099237, 0.05862953, 0.05862953, 0.27154836, 0.27154836,\n",
       "         0.86366007, 0.86366007, 0.8034422 , 0.8034422 , 0.87494252,\n",
       "         0.87494252, 0.31639803, 0.31639803, 0.44106726, 0.44106726,\n",
       "         0.25871995, 0.25871995, 0.97187191, 0.97187191, 0.74718093,\n",
       "         0.74718093, 0.09468071, 0.09468071, 0.68502309, 0.68502309,\n",
       "         0.2652158 , 0.2652158 , 0.80352549, 0.80352549, 0.79026634,\n",
       "         0.79026634, 0.69522802, 0.69522802, 0.00539091, 0.00539091,\n",
       "         0.29545716, 0.29545716, 0.9365249 , 0.9365249 , 0.61039426,\n",
       "         0.61039426, 0.34219895, 0.34219895, 0.94656909, 0.94656909,\n",
       "         0.0847426 , 0.0847426 , 0.20152133, 0.20152133, 0.56798231,\n",
       "         0.56798231, 0.12626814, 0.12626814, 0.20997428, 0.20997428,\n",
       "         0.77566646, 0.77566646, 0.27831314, 0.27831314, 0.05565341,\n",
       "         0.05565341, 0.94919064, 0.94919064, 0.2892183 , 0.2892183 ])}}"
      ]
     },
     "execution_count": 11,
     "metadata": {},
     "output_type": "execute_result"
    }
   ],
   "source": [
    "ds = load_by_id(run_id_n)\n",
    "ds.get_parameter_data('x1')"
   ]
  },
  {
   "cell_type": "markdown",
   "metadata": {},
   "source": [
    "And a dataset stored as binary arrays"
   ]
  },
  {
   "cell_type": "code",
   "execution_count": 12,
   "metadata": {
    "execution": {
     "iopub.execute_input": "2024-04-22T09:05:02.002858Z",
     "iopub.status.busy": "2024-04-22T09:05:02.002685Z",
     "iopub.status.idle": "2024-04-22T09:05:02.021489Z",
     "shell.execute_reply": "2024-04-22T09:05:02.020883Z"
    },
    "scrolled": true
   },
   "outputs": [
    {
     "data": {
      "text/plain": [
       "{'x1': {'x1': array([[0.32212239],\n",
       "         [0.32212239],\n",
       "         [0.18752489],\n",
       "         [0.18752489],\n",
       "         [0.40822625],\n",
       "         [0.40822625],\n",
       "         [0.23428053],\n",
       "         [0.23428053],\n",
       "         [0.94411249],\n",
       "         [0.94411249],\n",
       "         [0.14058614],\n",
       "         [0.14058614],\n",
       "         [0.85154749],\n",
       "         [0.85154749],\n",
       "         [0.44571762],\n",
       "         [0.44571762],\n",
       "         [0.92192599],\n",
       "         [0.92192599],\n",
       "         [0.12573345],\n",
       "         [0.12573345],\n",
       "         [0.55466376],\n",
       "         [0.55466376],\n",
       "         [0.97376978],\n",
       "         [0.97376978],\n",
       "         [0.70471552],\n",
       "         [0.70471552],\n",
       "         [0.92691993],\n",
       "         [0.92691993],\n",
       "         [0.42710517],\n",
       "         [0.42710517],\n",
       "         [0.91634983],\n",
       "         [0.91634983],\n",
       "         [0.10493738],\n",
       "         [0.10493738],\n",
       "         [0.35235898],\n",
       "         [0.35235898],\n",
       "         [0.43678505],\n",
       "         [0.43678505],\n",
       "         [0.94125247],\n",
       "         [0.94125247],\n",
       "         [0.41598391],\n",
       "         [0.41598391],\n",
       "         [0.87071382],\n",
       "         [0.87071382],\n",
       "         [0.72152968],\n",
       "         [0.72152968],\n",
       "         [0.69009956],\n",
       "         [0.69009956],\n",
       "         [0.33348558],\n",
       "         [0.33348558],\n",
       "         [0.69081664],\n",
       "         [0.69081664],\n",
       "         [0.01924766],\n",
       "         [0.01924766],\n",
       "         [0.16522934],\n",
       "         [0.16522934],\n",
       "         [0.77805753],\n",
       "         [0.77805753],\n",
       "         [0.29678419],\n",
       "         [0.29678419],\n",
       "         [0.52068835],\n",
       "         [0.52068835],\n",
       "         [0.24785502],\n",
       "         [0.24785502],\n",
       "         [0.08275187],\n",
       "         [0.08275187],\n",
       "         [0.86857914],\n",
       "         [0.86857914],\n",
       "         [0.0388034 ],\n",
       "         [0.0388034 ],\n",
       "         [0.75394169],\n",
       "         [0.75394169],\n",
       "         [0.86783441],\n",
       "         [0.86783441],\n",
       "         [0.11880609],\n",
       "         [0.11880609],\n",
       "         [0.13696262],\n",
       "         [0.13696262],\n",
       "         [0.55591663],\n",
       "         [0.55591663],\n",
       "         [0.89883573],\n",
       "         [0.89883573],\n",
       "         [0.41817456],\n",
       "         [0.41817456],\n",
       "         [0.15946168],\n",
       "         [0.15946168],\n",
       "         [0.82766053],\n",
       "         [0.82766053],\n",
       "         [0.46647854],\n",
       "         [0.46647854],\n",
       "         [0.30021637],\n",
       "         [0.30021637],\n",
       "         [0.99830737],\n",
       "         [0.99830737],\n",
       "         [0.62001626],\n",
       "         [0.62001626],\n",
       "         [0.53557872],\n",
       "         [0.53557872],\n",
       "         [0.91223931],\n",
       "         [0.91223931],\n",
       "         [0.83207732],\n",
       "         [0.83207732],\n",
       "         [0.57592913],\n",
       "         [0.57592913],\n",
       "         [0.66591697],\n",
       "         [0.66591697],\n",
       "         [0.47183229],\n",
       "         [0.47183229],\n",
       "         [0.18322736],\n",
       "         [0.18322736],\n",
       "         [0.38492752],\n",
       "         [0.38492752],\n",
       "         [0.81986882],\n",
       "         [0.81986882],\n",
       "         [0.70495982],\n",
       "         [0.70495982],\n",
       "         [0.18090388],\n",
       "         [0.18090388],\n",
       "         [0.41641191],\n",
       "         [0.41641191],\n",
       "         [0.51308604],\n",
       "         [0.51308604],\n",
       "         [0.83157022],\n",
       "         [0.83157022],\n",
       "         [0.02298492],\n",
       "         [0.02298492],\n",
       "         [0.23049525],\n",
       "         [0.23049525],\n",
       "         [0.24423782],\n",
       "         [0.24423782],\n",
       "         [0.79779629],\n",
       "         [0.79779629],\n",
       "         [0.82435104],\n",
       "         [0.82435104],\n",
       "         [0.69009066],\n",
       "         [0.69009066],\n",
       "         [0.31671872],\n",
       "         [0.31671872],\n",
       "         [0.78465769],\n",
       "         [0.78465769],\n",
       "         [0.44179868],\n",
       "         [0.44179868],\n",
       "         [0.93851693],\n",
       "         [0.93851693],\n",
       "         [0.10612605],\n",
       "         [0.10612605],\n",
       "         [0.00321071],\n",
       "         [0.00321071],\n",
       "         [0.47913878],\n",
       "         [0.47913878],\n",
       "         [0.83276416],\n",
       "         [0.83276416],\n",
       "         [0.38314328],\n",
       "         [0.38314328],\n",
       "         [0.1498427 ],\n",
       "         [0.1498427 ],\n",
       "         [0.32609242],\n",
       "         [0.32609242],\n",
       "         [0.65937932],\n",
       "         [0.65937932],\n",
       "         [0.01171623],\n",
       "         [0.01171623],\n",
       "         [0.527881  ],\n",
       "         [0.527881  ],\n",
       "         [0.98771139],\n",
       "         [0.98771139],\n",
       "         [0.99816291],\n",
       "         [0.99816291],\n",
       "         [0.63107933],\n",
       "         [0.63107933],\n",
       "         [0.92479193],\n",
       "         [0.92479193],\n",
       "         [0.44641477],\n",
       "         [0.44641477],\n",
       "         [0.31130441],\n",
       "         [0.31130441],\n",
       "         [0.7378383 ],\n",
       "         [0.7378383 ],\n",
       "         [0.43868548],\n",
       "         [0.43868548],\n",
       "         [0.61162209],\n",
       "         [0.61162209],\n",
       "         [0.67857312],\n",
       "         [0.67857312],\n",
       "         [0.9886991 ],\n",
       "         [0.9886991 ],\n",
       "         [0.68494097],\n",
       "         [0.68494097],\n",
       "         [0.42264307],\n",
       "         [0.42264307],\n",
       "         [0.53350231],\n",
       "         [0.53350231],\n",
       "         [0.27699841],\n",
       "         [0.27699841],\n",
       "         [0.8578037 ],\n",
       "         [0.8578037 ],\n",
       "         [0.97633554],\n",
       "         [0.97633554],\n",
       "         [0.97694847],\n",
       "         [0.97694847]])}}"
      ]
     },
     "execution_count": 12,
     "metadata": {},
     "output_type": "execute_result"
    }
   ],
   "source": [
    "ds = load_by_id(run_id_a)\n",
    "ds.get_parameter_data('x1')"
   ]
  },
  {
   "cell_type": "code",
   "execution_count": null,
   "metadata": {},
   "outputs": [],
   "source": []
  }
 ],
 "metadata": {
  "kernelspec": {
   "display_name": "Python 3",
   "language": "python",
   "name": "python3"
  },
  "language_info": {
   "codemirror_mode": {
    "name": "ipython",
    "version": 3
   },
   "file_extension": ".py",
   "mimetype": "text/x-python",
   "name": "python",
   "nbconvert_exporter": "python",
   "pygments_lexer": "ipython3",
   "version": "3.11.9"
  },
  "nbsphinx": {
   "timeout": 600
  },
  "toc": {
   "base_numbering": 1,
   "nav_menu": {},
   "number_sections": true,
   "sideBar": true,
   "skip_h1_title": false,
   "title_cell": "Table of Contents",
   "title_sidebar": "Contents",
   "toc_cell": false,
   "toc_position": {},
   "toc_section_display": true,
   "toc_window_display": false
  },
  "varInspector": {
   "cols": {
    "lenName": 16,
    "lenType": 16,
    "lenVar": 40
   },
   "kernels_config": {
    "python": {
     "delete_cmd_postfix": "",
     "delete_cmd_prefix": "del ",
     "library": "var_list.py",
     "varRefreshCmd": "print(var_dic_list())"
    },
    "r": {
     "delete_cmd_postfix": ") ",
     "delete_cmd_prefix": "rm(",
     "library": "var_list.r",
     "varRefreshCmd": "cat(var_dic_list()) "
    }
   },
   "types_to_exclude": [
    "module",
    "function",
    "builtin_function_or_method",
    "instance",
    "_Feature"
   ],
   "window_display": false
  }
 },
 "nbformat": 4,
 "nbformat_minor": 4
}
